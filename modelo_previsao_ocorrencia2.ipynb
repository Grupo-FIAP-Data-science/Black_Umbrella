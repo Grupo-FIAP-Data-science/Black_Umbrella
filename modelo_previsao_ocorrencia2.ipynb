{
 "cells": [
  {
   "cell_type": "code",
   "execution_count": 11,
   "metadata": {},
   "outputs": [],
   "source": [
    "import pandas as pd\n",
    "import warnings\n",
    "\n",
    "from sklearn.model_selection import train_test_split\n",
    "from sklearn.preprocessing import StandardScaler\n",
    "from sklearn.ensemble import RandomForestClassifier\n",
    "from sklearn.metrics import classification_report\n",
    "\n",
    "warnings.filterwarnings(\"ignore\")\n",
    "pd.set_option('display.max_columns', 39)\n",
    "\n",
    "caminho_arquivo = '../Black_Umbrella/dados/integracao_ocorr_diario_pre_processado.csv'\n",
    "df = pd.read_csv(caminho_arquivo)"
   ]
  },
  {
   "cell_type": "code",
   "execution_count": 12,
   "metadata": {},
   "outputs": [
    {
     "data": {
      "text/html": [
       "<div>\n",
       "<style scoped>\n",
       "    .dataframe tbody tr th:only-of-type {\n",
       "        vertical-align: middle;\n",
       "    }\n",
       "\n",
       "    .dataframe tbody tr th {\n",
       "        vertical-align: top;\n",
       "    }\n",
       "\n",
       "    .dataframe thead th {\n",
       "        text-align: right;\n",
       "    }\n",
       "</style>\n",
       "<table border=\"1\" class=\"dataframe\">\n",
       "  <thead>\n",
       "    <tr style=\"text-align: right;\">\n",
       "      <th></th>\n",
       "      <th>data</th>\n",
       "      <th>tavg</th>\n",
       "      <th>tmin</th>\n",
       "      <th>tmax</th>\n",
       "      <th>prcp</th>\n",
       "      <th>wdir</th>\n",
       "      <th>wspd</th>\n",
       "      <th>pres</th>\n",
       "      <th>distrito</th>\n",
       "      <th>latitude_distrito</th>\n",
       "      <th>longitude_distrito</th>\n",
       "      <th>ocorrencia</th>\n",
       "      <th>longitude_ocorrencia</th>\n",
       "      <th>latitude_ocorrencia</th>\n",
       "      <th>ocorrencia_target</th>\n",
       "      <th>distrito_encoded</th>\n",
       "      <th>dia</th>\n",
       "      <th>mes</th>\n",
       "      <th>ano</th>\n",
       "      <th>estacao_verao</th>\n",
       "      <th>estacao_outono</th>\n",
       "      <th>estacao_inverno</th>\n",
       "      <th>estacao_primavera</th>\n",
       "    </tr>\n",
       "  </thead>\n",
       "  <tbody>\n",
       "    <tr>\n",
       "      <th>0</th>\n",
       "      <td>2013-01-01</td>\n",
       "      <td>25.5</td>\n",
       "      <td>21.9</td>\n",
       "      <td>31.0</td>\n",
       "      <td>0.0</td>\n",
       "      <td>316.0</td>\n",
       "      <td>16.8</td>\n",
       "      <td>1017.511112</td>\n",
       "      <td>Agua Rasa</td>\n",
       "      <td>-23.565372</td>\n",
       "      <td>-46.573697</td>\n",
       "      <td>sem_ocorrencia</td>\n",
       "      <td>-46.623993</td>\n",
       "      <td>-23.570186</td>\n",
       "      <td>0</td>\n",
       "      <td>0.098238</td>\n",
       "      <td>1</td>\n",
       "      <td>1</td>\n",
       "      <td>2013</td>\n",
       "      <td>1</td>\n",
       "      <td>0</td>\n",
       "      <td>0</td>\n",
       "      <td>0</td>\n",
       "    </tr>\n",
       "    <tr>\n",
       "      <th>1</th>\n",
       "      <td>2013-01-01</td>\n",
       "      <td>25.5</td>\n",
       "      <td>21.9</td>\n",
       "      <td>31.0</td>\n",
       "      <td>0.0</td>\n",
       "      <td>316.0</td>\n",
       "      <td>16.8</td>\n",
       "      <td>1017.511112</td>\n",
       "      <td>Alto De Pinheiros</td>\n",
       "      <td>-23.549906</td>\n",
       "      <td>-46.707642</td>\n",
       "      <td>sem_ocorrencia</td>\n",
       "      <td>-46.623993</td>\n",
       "      <td>-23.570186</td>\n",
       "      <td>0</td>\n",
       "      <td>0.168444</td>\n",
       "      <td>1</td>\n",
       "      <td>1</td>\n",
       "      <td>2013</td>\n",
       "      <td>1</td>\n",
       "      <td>0</td>\n",
       "      <td>0</td>\n",
       "      <td>0</td>\n",
       "    </tr>\n",
       "    <tr>\n",
       "      <th>2</th>\n",
       "      <td>2013-01-01</td>\n",
       "      <td>25.5</td>\n",
       "      <td>21.9</td>\n",
       "      <td>31.0</td>\n",
       "      <td>0.0</td>\n",
       "      <td>316.0</td>\n",
       "      <td>16.8</td>\n",
       "      <td>1017.511112</td>\n",
       "      <td>Anhanguera</td>\n",
       "      <td>-23.432908</td>\n",
       "      <td>-46.788534</td>\n",
       "      <td>sem_ocorrencia</td>\n",
       "      <td>-46.623993</td>\n",
       "      <td>-23.570186</td>\n",
       "      <td>0</td>\n",
       "      <td>0.068531</td>\n",
       "      <td>1</td>\n",
       "      <td>1</td>\n",
       "      <td>2013</td>\n",
       "      <td>1</td>\n",
       "      <td>0</td>\n",
       "      <td>0</td>\n",
       "      <td>0</td>\n",
       "    </tr>\n",
       "  </tbody>\n",
       "</table>\n",
       "</div>"
      ],
      "text/plain": [
       "         data  tavg  tmin  tmax  prcp   wdir  wspd         pres  \\\n",
       "0  2013-01-01  25.5  21.9  31.0   0.0  316.0  16.8  1017.511112   \n",
       "1  2013-01-01  25.5  21.9  31.0   0.0  316.0  16.8  1017.511112   \n",
       "2  2013-01-01  25.5  21.9  31.0   0.0  316.0  16.8  1017.511112   \n",
       "\n",
       "            distrito  latitude_distrito  longitude_distrito      ocorrencia  \\\n",
       "0          Agua Rasa         -23.565372          -46.573697  sem_ocorrencia   \n",
       "1  Alto De Pinheiros         -23.549906          -46.707642  sem_ocorrencia   \n",
       "2         Anhanguera         -23.432908          -46.788534  sem_ocorrencia   \n",
       "\n",
       "   longitude_ocorrencia  latitude_ocorrencia  ocorrencia_target  \\\n",
       "0            -46.623993           -23.570186                  0   \n",
       "1            -46.623993           -23.570186                  0   \n",
       "2            -46.623993           -23.570186                  0   \n",
       "\n",
       "   distrito_encoded  dia  mes   ano  estacao_verao  estacao_outono  \\\n",
       "0          0.098238    1    1  2013              1               0   \n",
       "1          0.168444    1    1  2013              1               0   \n",
       "2          0.068531    1    1  2013              1               0   \n",
       "\n",
       "   estacao_inverno  estacao_primavera  \n",
       "0                0                  0  \n",
       "1                0                  0  \n",
       "2                0                  0  "
      ]
     },
     "execution_count": 12,
     "metadata": {},
     "output_type": "execute_result"
    }
   ],
   "source": [
    "df.head(3)"
   ]
  },
  {
   "cell_type": "code",
   "execution_count": 13,
   "metadata": {},
   "outputs": [],
   "source": [
    "X = df.drop(columns=['data', 'distrito', 'ocorrencia', 'longitude_ocorrencia', 'latitude_ocorrencia', 'ocorrencia_target'])\n",
    "y = df['ocorrencia_target']"
   ]
  },
  {
   "cell_type": "code",
   "execution_count": 14,
   "metadata": {},
   "outputs": [
    {
     "data": {
      "text/plain": [
       "((427410, 17), (427410,))"
      ]
     },
     "execution_count": 14,
     "metadata": {},
     "output_type": "execute_result"
    }
   ],
   "source": [
    "X.shape, y.shape"
   ]
  },
  {
   "cell_type": "code",
   "execution_count": 15,
   "metadata": {},
   "outputs": [
    {
     "name": "stdout",
     "output_type": "stream",
     "text": [
      "              precision    recall  f1-score   support\n",
      "\n",
      "           0       0.94      0.98      0.96     73868\n",
      "           1       0.86      0.60      0.70     11614\n",
      "\n",
      "    accuracy                           0.93     85482\n",
      "   macro avg       0.90      0.79      0.83     85482\n",
      "weighted avg       0.93      0.93      0.93     85482\n",
      "\n"
     ]
    }
   ],
   "source": [
    "# Dividindo os dados em treino (80%) e teste (20%)\n",
    "X_train, X_test, y_train, y_test = train_test_split(X, y, test_size=0.2, random_state=42)\n",
    "\n",
    "# Instanciar o scaler\n",
    "scaler = StandardScaler()  # ou MinMaxScaler()\n",
    "\n",
    "# Ajustar o scaler aos dados de treinamento e transformar\n",
    "X_train_scaled = scaler.fit_transform(X_train[['tavg', 'tmin', 'tmax', 'prcp', 'wdir', 'wspd', 'pres']])\n",
    "X_test_scaled = scaler.transform(X_test[['tavg', 'tmin', 'tmax', 'prcp', 'wdir', 'wspd', 'pres']])\n",
    "\n",
    "# Substituir os dados originais pelos dados escalados\n",
    "X_train[['tavg', 'tmin', 'tmax', 'prcp', 'wdir', 'wspd', 'pres']] = X_train_scaled\n",
    "X_test[['tavg', 'tmin', 'tmax', 'prcp', 'wdir', 'wspd', 'pres']] = X_test_scaled\n",
    "\n",
    "# Aplicando class weights para balancear a importância das classes\n",
    "# O modelo vai penalizar mais os erros da classe 1 (ocorrência) para focar em melhorar a recall e F1-score dessa classe.\n",
    "# Criando e treinando o modelo Random Forest\n",
    "rf_model = RandomForestClassifier(n_estimators=50, random_state=42, class_weight={0: 1, 1: 3})\n",
    "rf_model.fit(X_train, y_train)\n",
    "\n",
    "# Fazer previsões e avaliar o modelo\n",
    "y_pred = rf_model.predict(X_test)\n",
    "print(classification_report(y_test, y_pred))"
   ]
  },
  {
   "cell_type": "code",
   "execution_count": 16,
   "metadata": {},
   "outputs": [
    {
     "name": "stdout",
     "output_type": "stream",
     "text": [
      "[[72696  1172]\n",
      " [ 4694  6920]]\n"
     ]
    }
   ],
   "source": [
    "import matplotlib.pyplot as plt\n",
    "from sklearn.metrics import confusion_matrix\n",
    "from sklearn.metrics import ConfusionMatrixDisplay\n",
    "\n",
    "matriz = confusion_matrix(y_test, y_pred)\n",
    "print(confusion_matrix(y_test, y_pred))"
   ]
  },
  {
   "cell_type": "code",
   "execution_count": 18,
   "metadata": {},
   "outputs": [
    {
     "data": {
      "image/png": "[encoded data removed]",
      "text/plain": [
       "<Figure size 640x480 with 2 Axes>"
      ]
     },
     "metadata": {},
     "output_type": "display_data"
    }
   ],
   "source": [
    "visualizacao = ConfusionMatrixDisplay(confusion_matrix=matriz,\n",
    "                                      display_labels=['sem ocorrencia', 'ocorrencia'])\n",
    "visualizacao.plot()\n",
    "\n",
    "plt.title(\"Matriz de Confusão - DecisionTreeClassifier\");"
   ]
  },
  {
   "cell_type": "code",
   "execution_count": null,
   "metadata": {},
   "outputs": [],
   "source": []
  }
 ],
 "metadata": {
  "kernelspec": {
   "display_name": ".venv",
   "language": "python",
   "name": "python3"
  },
  "language_info": {
   "codemirror_mode": {
    "name": "ipython",
    "version": 3
   },
   "file_extension": ".py",
   "mimetype": "text/x-python",
   "name": "python",
   "nbconvert_exporter": "python",
   "pygments_lexer": "ipython3",
   "version": "3.12.3"
  }
 },
 "nbformat": 4,
 "nbformat_minor": 2
}
