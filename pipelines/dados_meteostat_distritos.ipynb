{
 "cells": [
  {
   "cell_type": "code",
   "execution_count": null,
   "metadata": {},
   "outputs": [],
   "source": [
    "import pandas as pd\n",
    "\n",
    "df = pd.read_csv('/home/ryanrodr/Downloads/codigos_distritos_msp.csv', encoding='latin1', sep=';')\n",
    "df.head(3)"
   ]
  },
  {
   "cell_type": "code",
   "execution_count": null,
   "metadata": {},
   "outputs": [],
   "source": [
    "from geopy.geocoders import Nominatim\n",
    "import pandas as pd\n",
    "\n",
    "# Lista dos distritos de São Paulo (exemplo)\n",
    "distritos = df['distrito']\n",
    "\n",
    "# Inicialize o geolocalizador\n",
    "geolocator = Nominatim(user_agent=\"geoapiExercises\")\n",
    "\n",
    "# Função para obter latitude e longitude\n",
    "def obter_lat_long(distrito):\n",
    "    try:\n",
    "        location = geolocator.geocode(distrito + \", São Paulo, Brasil\")\n",
    "        if location:\n",
    "            return location.latitude, location.longitude\n",
    "        else:\n",
    "            return None, None\n",
    "    except Exception as e:\n",
    "        print(f\"Erro ao obter coordenadas para {distrito}: {e}\")\n",
    "        return None, None\n",
    "\n",
    "# Crie uma lista para armazenar os resultados\n",
    "resultados = []\n",
    "\n",
    "# Obtenha coordenadas para cada distrito\n",
    "for distrito in distritos:\n",
    "    lat, long = obter_lat_long(distrito)\n",
    "    resultados.append({\n",
    "        \"Distrito\": distrito,\n",
    "        \"Latitude\": lat,\n",
    "        \"Longitude\": long\n",
    "    })\n",
    "\n",
    "# Crie um DataFrame para visualizar os resultados\n",
    "df2 = pd.DataFrame(resultados)\n",
    "df2 = df2.dropna()"
   ]
  },
  {
   "cell_type": "code",
   "execution_count": null,
   "metadata": {},
   "outputs": [],
   "source": [
    "from meteostat import Point, Daily\n",
    "from datetime import datetime\n",
    "\n",
    "# Definir datas diretamente no código\n",
    "start = datetime(1950, 1, 1)\n",
    "end = datetime(2024, 8, 31)\n",
    "\n",
    "# Lista para armazenar os dados de cada distrito\n",
    "all_data = []\n",
    "\n",
    "# Iterar sobre as linhas do DataFrame e obter dados do Meteostat\n",
    "for index, row in df2.iterrows():\n",
    "    latitude = row['Latitude']\n",
    "    longitude = row['Longitude']\n",
    "    location = Point(latitude, longitude)\n",
    "    \n",
    "    # Obter dados diários do Meteostat\n",
    "    data = Daily(location, start, end).fetch()\n",
    "    \n",
    "    # Adicionar uma coluna com o nome do distrito\n",
    "    data['Distrito'] = row['Distrito']\n",
    "    \n",
    "    # Adicionar os dados à lista\n",
    "    all_data.append(data)\n",
    "\n",
    "# Concatenar todos os DataFrames em um único DataFrame\n",
    "final_data = pd.concat(all_data)\n",
    "\n",
    "# Resetar o índice do DataFrame final\n",
    "final_data.reset_index(inplace=True)\n",
    "\n",
    "final_data"
   ]
  }
 ],
 "metadata": {
  "kernelspec": {
   "display_name": ".venv",
   "language": "python",
   "name": "python3"
  },
  "language_info": {
   "codemirror_mode": {
    "name": "ipython",
    "version": 3
   },
   "file_extension": ".py",
   "mimetype": "text/x-python",
   "name": "python",
   "nbconvert_exporter": "python",
   "pygments_lexer": "ipython3",
   "version": "3.12.3"
  }
 },
 "nbformat": 4,
 "nbformat_minor": 2
}
