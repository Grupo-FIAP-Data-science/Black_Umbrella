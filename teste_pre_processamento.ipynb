{
 "cells": [
  {
   "cell_type": "code",
   "execution_count": null,
   "metadata": {},
   "outputs": [],
   "source": [
    "import pandas as pd\n",
    "import warnings\n",
    "warnings.filterwarnings(\"ignore\")\n",
    "pd.set_option('display.max_columns', 39)\n",
    "\n",
    "url = r'../Black_Umbrella/dados/integracao_ocorr_diario.csv'\n",
    "df = pd.read_csv(url)\n",
    "\n",
    "# Converter 'data' para datetime\n",
    "df['data'] = pd.to_datetime(df['data'])\n",
    "\n",
    "# Verificar e ajustar tipos de colunas numéricas\n",
    "numeric_cols = ['tavg', 'tmin', 'tmax', 'prcp', 'wdir', 'wspd', 'pres']\n",
    "df[numeric_cols] = df[numeric_cols].astype(float)\n",
    "\n",
    "# Preencher valores nulos em 'ocorrencia' com 'sem_ocorrencia' e padronizar os textos\n",
    "df['ocorrencia'].fillna('sem_ocorrencia', inplace=True)\n",
    "df['ocorrencia'] = df['ocorrencia'].str.lower().str.replace(' ', '_', regex=False)\n",
    "\n",
    "# Imputar valores faltantes para latitude e longitude com a média\n",
    "df['latitude_distrito'].fillna(df['latitude_distrito'].mean(), inplace=True)\n",
    "df['longitude_distrito'].fillna(df['longitude_distrito'].mean(), inplace=True)\n",
    "df['latitude_ocorrencia'].fillna(df['latitude_ocorrencia'].mean(), inplace=True)\n",
    "df['longitude_ocorrencia'].fillna(df['longitude_ocorrencia'].mean(), inplace=True)\n",
    "\n",
    "# Transformar 'ocorrencia' diretamente em uma variável categórica\n",
    "df['ocorrencia'] = df['ocorrencia'].astype('category')\n",
    "\n",
    "# Criar a coluna target binária 'ocorrencia_target' (1 se houve ocorrência, 0 caso contrário)\n",
    "df['ocorrencia_target'] = df['ocorrencia'].apply(lambda x: 0 if x == 'sem_ocorrencia' else 1)\n",
    "\n",
    "# Imputar valores nulos em 'distrito' com 'Unknown' e transformá-lo em variável categórica\n",
    "df['distrito'].fillna('Unknown', inplace=True)\n",
    "df['distrito'] = df['distrito'].astype('category')\n",
    "\n",
    "# Exibir o dataframe final\n",
    "df.head()"
   ]
  },
  {
   "cell_type": "code",
   "execution_count": null,
   "metadata": {},
   "outputs": [],
   "source": []
  }
 ],
 "metadata": {
  "kernelspec": {
   "display_name": ".venv",
   "language": "python",
   "name": "python3"
  },
  "language_info": {
   "codemirror_mode": {
    "name": "ipython",
    "version": 3
   },
   "file_extension": ".py",
   "mimetype": "text/x-python",
   "name": "python",
   "nbconvert_exporter": "python",
   "pygments_lexer": "ipython3",
   "version": "3.12.3"
  }
 },
 "nbformat": 4,
 "nbformat_minor": 2
}
