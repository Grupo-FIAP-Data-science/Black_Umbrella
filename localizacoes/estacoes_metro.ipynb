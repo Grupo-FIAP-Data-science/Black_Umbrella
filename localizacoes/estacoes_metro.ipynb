{
 "cells": [
  {
   "cell_type": "code",
   "execution_count": null,
   "metadata": {},
   "outputs": [],
   "source": [
    "import pandas as pd\n",
    "import folium\n",
    "from folium.plugins import MarkerCluster\n",
    "\n",
    "df = pd.read_csv('/home/ryanrodr/FIAP/Black_Umbrella/dados/localizacao_estacoes_metro.csv')\n",
    "df.head(3)"
   ]
  },
  {
   "cell_type": "code",
   "execution_count": null,
   "metadata": {},
   "outputs": [],
   "source": [
    "# Criando um mapa inicial com as coordenadas de SP\n",
    "map = folium.Map(location=[-23.5505, -46.6333], zoom_start=10)\n",
    "\n",
    "# Adicionando um marcador ao mapa\n",
    "marker_cluster = MarkerCluster().add_to(map)\n",
    "\n",
    "# Iterando pelas Lat/Lon para adicionar ao mapa\n",
    "for index, row in df.iterrows():\n",
    "    folium.Marker(\n",
    "        location=[row['lat'], row['lon']], popup=row['name']).add_to(map)\n",
    "map"
   ]
  }
 ],
 "metadata": {
  "kernelspec": {
   "display_name": ".venv",
   "language": "python",
   "name": "python3"
  },
  "language_info": {
   "codemirror_mode": {
    "name": "ipython",
    "version": 3
   },
   "file_extension": ".py",
   "mimetype": "text/x-python",
   "name": "python",
   "nbconvert_exporter": "python",
   "pygments_lexer": "ipython3",
   "version": "3.12.3"
  }
 },
 "nbformat": 4,
 "nbformat_minor": 2
}
